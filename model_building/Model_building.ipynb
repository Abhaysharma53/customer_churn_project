{
 "cells": [
  {
   "cell_type": "markdown",
   "id": "1b34e68d",
   "metadata": {},
   "source": [
    "## Data Dictionary\n",
    "\n",
    "There are multiple variables in the dataset which can be cleanly divided in 3 categories:\n",
    "\n",
    "### Demographic information about customers\n",
    "\n",
    "<b>customer_id</b> - Customer id\n",
    "\n",
    "<b>vintage</b> - Vintage of the customer with the bank in number of days\n",
    "\n",
    "<b>age</b> - Age of customer\n",
    "\n",
    "<b>gender</b> - Gender of customer\n",
    "\n",
    "<b>dependents</b> - Number of dependents\n",
    "\n",
    "<b>occupation</b> - Occupation of the customer \n",
    "\n",
    "<b>city</b> - City of customer (anonymised)\n",
    "\n",
    "\n",
    "### Customer Bank Relationship\n",
    "\n",
    "\n",
    "<b>customer_nw_category</b> - Net worth of customer (3:Low 2:Medium 1:High)\n",
    "\n",
    "<b>branch_code</b> - Branch Code for customer account\n",
    "\n",
    "<b>days_since_last_transaction</b> - No of Days Since Last Credit in Last 1 year\n",
    "\n",
    "\n",
    "### Transactional Information\n",
    "\n",
    "<b>current_balance</b> - Balance as of today\n",
    "\n",
    "<b>previous_month_end_balance</b> - End of Month Balance of previous month\n",
    "\n",
    "\n",
    "<b>average_monthly_balance_prevQ</b> - Average monthly balances (AMB) in Previous Quarter\n",
    "\n",
    "<b>average_monthly_balance_prevQ2</b> - Average monthly balances (AMB) in previous to previous quarter\n",
    "\n",
    "<b>current_month_credit</b> - Total Credit Amount current month\n",
    "\n",
    "<b>previous_month_credit</b> - Total Credit Amount previous month\n",
    "\n",
    "<b>current_month_debit</b> - Total Debit Amount current month\n",
    "\n",
    "<b>previous_month_debit</b> - Total Debit Amount previous month\n",
    "\n",
    "<b>current_month_balance</b> - Average Balance of current month\n",
    "\n",
    "<b>previous_month_balance</b> - Average Balance of previous month\n",
    "\n",
    "<b>churn</b> - Average balance of customer falls below minimum balance in the next quarter (1/0)"
   ]
  },
  {
   "cell_type": "markdown",
   "id": "98ec9208",
   "metadata": {},
   "source": [
    "---\n",
    "---\n",
    "## Loading Packages"
   ]
  },
  {
   "cell_type": "code",
   "execution_count": 1,
   "id": "991511c9",
   "metadata": {},
   "outputs": [],
   "source": [
    "import numpy as np\n",
    "import pandas as pd\n",
    "import seaborn as sns\n",
    "import matplotlib.pyplot as plt\n",
    "from sklearn.preprocessing import LabelEncoder\n",
    "from sklearn.preprocessing import StandardScaler\n",
    "from sklearn.linear_model import LogisticRegression\n",
    "from sklearn.model_selection import KFold, StratifiedKFold, train_test_split\n",
    "from sklearn.metrics import roc_auc_score, accuracy_score, confusion_matrix, roc_curve, precision_score, recall_score, precision_recall_curve\n",
    "import warnings\n",
    "warnings.simplefilter(action='ignore', category=FutureWarning)\n",
    "warnings.simplefilter(action='ignore', category=UserWarning)"
   ]
  },
  {
   "cell_type": "code",
   "execution_count": 2,
   "id": "b0902bf5",
   "metadata": {},
   "outputs": [
    {
     "data": {
      "text/html": [
       "<div>\n",
       "<style scoped>\n",
       "    .dataframe tbody tr th:only-of-type {\n",
       "        vertical-align: middle;\n",
       "    }\n",
       "\n",
       "    .dataframe tbody tr th {\n",
       "        vertical-align: top;\n",
       "    }\n",
       "\n",
       "    .dataframe thead th {\n",
       "        text-align: right;\n",
       "    }\n",
       "</style>\n",
       "<table border=\"1\" class=\"dataframe\">\n",
       "  <thead>\n",
       "    <tr style=\"text-align: right;\">\n",
       "      <th></th>\n",
       "      <th>customer_id</th>\n",
       "      <th>vintage</th>\n",
       "      <th>age</th>\n",
       "      <th>gender</th>\n",
       "      <th>dependents</th>\n",
       "      <th>occupation</th>\n",
       "      <th>city</th>\n",
       "      <th>customer_nw_category</th>\n",
       "      <th>branch_code</th>\n",
       "      <th>days_since_last_transaction</th>\n",
       "      <th>...</th>\n",
       "      <th>previous_month_end_balance</th>\n",
       "      <th>average_monthly_balance_prevQ</th>\n",
       "      <th>average_monthly_balance_prevQ2</th>\n",
       "      <th>current_month_credit</th>\n",
       "      <th>previous_month_credit</th>\n",
       "      <th>current_month_debit</th>\n",
       "      <th>previous_month_debit</th>\n",
       "      <th>current_month_balance</th>\n",
       "      <th>previous_month_balance</th>\n",
       "      <th>churn</th>\n",
       "    </tr>\n",
       "  </thead>\n",
       "  <tbody>\n",
       "    <tr>\n",
       "      <th>0</th>\n",
       "      <td>1</td>\n",
       "      <td>3135</td>\n",
       "      <td>66</td>\n",
       "      <td>Male</td>\n",
       "      <td>0.0</td>\n",
       "      <td>self_employed</td>\n",
       "      <td>187.0</td>\n",
       "      <td>2</td>\n",
       "      <td>755</td>\n",
       "      <td>224.0</td>\n",
       "      <td>...</td>\n",
       "      <td>1458.71</td>\n",
       "      <td>1458.71</td>\n",
       "      <td>1449.07</td>\n",
       "      <td>0.20</td>\n",
       "      <td>0.20</td>\n",
       "      <td>0.20</td>\n",
       "      <td>0.20</td>\n",
       "      <td>1458.71</td>\n",
       "      <td>1458.71</td>\n",
       "      <td>0</td>\n",
       "    </tr>\n",
       "    <tr>\n",
       "      <th>1</th>\n",
       "      <td>2</td>\n",
       "      <td>310</td>\n",
       "      <td>35</td>\n",
       "      <td>Male</td>\n",
       "      <td>0.0</td>\n",
       "      <td>self_employed</td>\n",
       "      <td>NaN</td>\n",
       "      <td>2</td>\n",
       "      <td>3214</td>\n",
       "      <td>60.0</td>\n",
       "      <td>...</td>\n",
       "      <td>8704.66</td>\n",
       "      <td>7799.26</td>\n",
       "      <td>12419.41</td>\n",
       "      <td>0.56</td>\n",
       "      <td>0.56</td>\n",
       "      <td>5486.27</td>\n",
       "      <td>100.56</td>\n",
       "      <td>6496.78</td>\n",
       "      <td>8787.61</td>\n",
       "      <td>0</td>\n",
       "    </tr>\n",
       "    <tr>\n",
       "      <th>2</th>\n",
       "      <td>4</td>\n",
       "      <td>2356</td>\n",
       "      <td>31</td>\n",
       "      <td>Male</td>\n",
       "      <td>0.0</td>\n",
       "      <td>salaried</td>\n",
       "      <td>146.0</td>\n",
       "      <td>2</td>\n",
       "      <td>41</td>\n",
       "      <td>NaN</td>\n",
       "      <td>...</td>\n",
       "      <td>5815.29</td>\n",
       "      <td>4910.17</td>\n",
       "      <td>2815.94</td>\n",
       "      <td>0.61</td>\n",
       "      <td>0.61</td>\n",
       "      <td>6046.73</td>\n",
       "      <td>259.23</td>\n",
       "      <td>5006.28</td>\n",
       "      <td>5070.14</td>\n",
       "      <td>0</td>\n",
       "    </tr>\n",
       "    <tr>\n",
       "      <th>3</th>\n",
       "      <td>5</td>\n",
       "      <td>478</td>\n",
       "      <td>90</td>\n",
       "      <td>NaN</td>\n",
       "      <td>NaN</td>\n",
       "      <td>self_employed</td>\n",
       "      <td>1020.0</td>\n",
       "      <td>2</td>\n",
       "      <td>582</td>\n",
       "      <td>147.0</td>\n",
       "      <td>...</td>\n",
       "      <td>2291.91</td>\n",
       "      <td>2084.54</td>\n",
       "      <td>1006.54</td>\n",
       "      <td>0.47</td>\n",
       "      <td>0.47</td>\n",
       "      <td>0.47</td>\n",
       "      <td>2143.33</td>\n",
       "      <td>2291.91</td>\n",
       "      <td>1669.79</td>\n",
       "      <td>1</td>\n",
       "    </tr>\n",
       "    <tr>\n",
       "      <th>4</th>\n",
       "      <td>6</td>\n",
       "      <td>2531</td>\n",
       "      <td>42</td>\n",
       "      <td>Male</td>\n",
       "      <td>2.0</td>\n",
       "      <td>self_employed</td>\n",
       "      <td>1494.0</td>\n",
       "      <td>3</td>\n",
       "      <td>388</td>\n",
       "      <td>58.0</td>\n",
       "      <td>...</td>\n",
       "      <td>1401.72</td>\n",
       "      <td>1643.31</td>\n",
       "      <td>1871.12</td>\n",
       "      <td>0.33</td>\n",
       "      <td>714.61</td>\n",
       "      <td>588.62</td>\n",
       "      <td>1538.06</td>\n",
       "      <td>1157.15</td>\n",
       "      <td>1677.16</td>\n",
       "      <td>1</td>\n",
       "    </tr>\n",
       "  </tbody>\n",
       "</table>\n",
       "<p>5 rows × 21 columns</p>\n",
       "</div>"
      ],
      "text/plain": [
       "   customer_id  vintage  age gender  dependents     occupation    city  \\\n",
       "0            1     3135   66   Male         0.0  self_employed   187.0   \n",
       "1            2      310   35   Male         0.0  self_employed     NaN   \n",
       "2            4     2356   31   Male         0.0       salaried   146.0   \n",
       "3            5      478   90    NaN         NaN  self_employed  1020.0   \n",
       "4            6     2531   42   Male         2.0  self_employed  1494.0   \n",
       "\n",
       "   customer_nw_category  branch_code  days_since_last_transaction  ...  \\\n",
       "0                     2          755                        224.0  ...   \n",
       "1                     2         3214                         60.0  ...   \n",
       "2                     2           41                          NaN  ...   \n",
       "3                     2          582                        147.0  ...   \n",
       "4                     3          388                         58.0  ...   \n",
       "\n",
       "   previous_month_end_balance  average_monthly_balance_prevQ  \\\n",
       "0                     1458.71                        1458.71   \n",
       "1                     8704.66                        7799.26   \n",
       "2                     5815.29                        4910.17   \n",
       "3                     2291.91                        2084.54   \n",
       "4                     1401.72                        1643.31   \n",
       "\n",
       "   average_monthly_balance_prevQ2  current_month_credit  \\\n",
       "0                         1449.07                  0.20   \n",
       "1                        12419.41                  0.56   \n",
       "2                         2815.94                  0.61   \n",
       "3                         1006.54                  0.47   \n",
       "4                         1871.12                  0.33   \n",
       "\n",
       "   previous_month_credit  current_month_debit  previous_month_debit  \\\n",
       "0                   0.20                 0.20                  0.20   \n",
       "1                   0.56              5486.27                100.56   \n",
       "2                   0.61              6046.73                259.23   \n",
       "3                   0.47                 0.47               2143.33   \n",
       "4                 714.61               588.62               1538.06   \n",
       "\n",
       "   current_month_balance  previous_month_balance  churn  \n",
       "0                1458.71                 1458.71      0  \n",
       "1                6496.78                 8787.61      0  \n",
       "2                5006.28                 5070.14      0  \n",
       "3                2291.91                 1669.79      1  \n",
       "4                1157.15                 1677.16      1  \n",
       "\n",
       "[5 rows x 21 columns]"
      ]
     },
     "execution_count": 2,
     "metadata": {},
     "output_type": "execute_result"
    }
   ],
   "source": [
    "#loading data\n",
    "data = pd.read_csv('churn_prediction.csv')\n",
    "data.head()"
   ]
  },
  {
   "cell_type": "code",
   "execution_count": 3,
   "id": "95fbb8a8",
   "metadata": {},
   "outputs": [
    {
     "data": {
      "text/plain": [
       "(28382, 21)"
      ]
     },
     "execution_count": 3,
     "metadata": {},
     "output_type": "execute_result"
    }
   ],
   "source": [
    "data.shape"
   ]
  },
  {
   "cell_type": "markdown",
   "id": "56ed2bc4",
   "metadata": {},
   "source": [
    "# Missing value imputation"
   ]
  },
  {
   "cell_type": "code",
   "execution_count": 4,
   "id": "ab369e39",
   "metadata": {},
   "outputs": [
    {
     "data": {
      "text/plain": [
       "customer_id                          0\n",
       "vintage                              0\n",
       "age                                  0\n",
       "gender                             525\n",
       "dependents                        2463\n",
       "occupation                          80\n",
       "city                               803\n",
       "customer_nw_category                 0\n",
       "branch_code                          0\n",
       "days_since_last_transaction       3223\n",
       "current_balance                      0\n",
       "previous_month_end_balance           0\n",
       "average_monthly_balance_prevQ        0\n",
       "average_monthly_balance_prevQ2       0\n",
       "current_month_credit                 0\n",
       "previous_month_credit                0\n",
       "current_month_debit                  0\n",
       "previous_month_debit                 0\n",
       "current_month_balance                0\n",
       "previous_month_balance               0\n",
       "churn                                0\n",
       "dtype: int64"
      ]
     },
     "execution_count": 4,
     "metadata": {},
     "output_type": "execute_result"
    }
   ],
   "source": [
    "data.isnull().sum()"
   ]
  },
  {
   "cell_type": "code",
   "execution_count": 5,
   "id": "9433dea4",
   "metadata": {},
   "outputs": [
    {
     "data": {
      "text/plain": [
       "customer_id                       0.000000\n",
       "vintage                           0.000000\n",
       "age                               0.000000\n",
       "gender                            0.018498\n",
       "dependents                        0.086780\n",
       "occupation                        0.002819\n",
       "city                              0.028293\n",
       "customer_nw_category              0.000000\n",
       "branch_code                       0.000000\n",
       "days_since_last_transaction       0.113558\n",
       "current_balance                   0.000000\n",
       "previous_month_end_balance        0.000000\n",
       "average_monthly_balance_prevQ     0.000000\n",
       "average_monthly_balance_prevQ2    0.000000\n",
       "current_month_credit              0.000000\n",
       "previous_month_credit             0.000000\n",
       "current_month_debit               0.000000\n",
       "previous_month_debit              0.000000\n",
       "current_month_balance             0.000000\n",
       "previous_month_balance            0.000000\n",
       "churn                             0.000000\n",
       "dtype: float64"
      ]
     },
     "execution_count": 5,
     "metadata": {},
     "output_type": "execute_result"
    }
   ],
   "source": [
    "data.isnull().sum()/data.shape[0]"
   ]
  },
  {
   "cell_type": "markdown",
   "id": "f87d0ef1",
   "metadata": {},
   "source": [
    "highest no of missing value is in last transaction column which is around 11.3%, so we should not drop any column here based on missing value ratio."
   ]
  },
  {
   "cell_type": "code",
   "execution_count": 6,
   "id": "be62c724",
   "metadata": {},
   "outputs": [
    {
     "data": {
      "text/plain": [
       "Male      16548\n",
       "Female    11309\n",
       "Name: gender, dtype: int64"
      ]
     },
     "execution_count": 6,
     "metadata": {},
     "output_type": "execute_result"
    }
   ],
   "source": [
    "#lets check one by one now\n",
    "#gender\n",
    "data.gender.value_counts()"
   ]
  },
  {
   "cell_type": "markdown",
   "id": "0b2b0b3d",
   "metadata": {},
   "source": [
    "so there is a good mixture of male and female, also in this column just imputing missing values by mode might not be most appropriate, since missing value may indicate any gender apart from male or feamale\n",
    "- also , these missing value may also show us some new pattern in customer churn which we may not be able to see if we just impute mode here.\n",
    "- so let's first convert it to numeric and then create new category -1 for them"
   ]
  },
  {
   "cell_type": "code",
   "execution_count": 7,
   "id": "ec47959e",
   "metadata": {},
   "outputs": [],
   "source": [
    "dict_gender = {'Male': 1, 'Female': 0}\n",
    "data.replace({'gender': dict_gender}, inplace = True)\n",
    "data.gender.fillna(-1, inplace = True)"
   ]
  },
  {
   "cell_type": "code",
   "execution_count": 8,
   "id": "e6ede46c",
   "metadata": {},
   "outputs": [
    {
     "data": {
      "text/plain": [
       "customer_id                          0\n",
       "vintage                              0\n",
       "age                                  0\n",
       "gender                               0\n",
       "dependents                        2463\n",
       "occupation                          80\n",
       "city                               803\n",
       "customer_nw_category                 0\n",
       "branch_code                          0\n",
       "days_since_last_transaction       3223\n",
       "current_balance                      0\n",
       "previous_month_end_balance           0\n",
       "average_monthly_balance_prevQ        0\n",
       "average_monthly_balance_prevQ2       0\n",
       "current_month_credit                 0\n",
       "previous_month_credit                0\n",
       "current_month_debit                  0\n",
       "previous_month_debit                 0\n",
       "current_month_balance                0\n",
       "previous_month_balance               0\n",
       "churn                                0\n",
       "dtype: int64"
      ]
     },
     "execution_count": 8,
     "metadata": {},
     "output_type": "execute_result"
    }
   ],
   "source": [
    "data.isnull().sum()"
   ]
  },
  {
   "cell_type": "code",
   "execution_count": 9,
   "id": "b03c9bb0",
   "metadata": {},
   "outputs": [
    {
     "data": {
      "text/plain": [
       "customer_id                         int64\n",
       "vintage                             int64\n",
       "age                                 int64\n",
       "gender                            float64\n",
       "dependents                        float64\n",
       "occupation                         object\n",
       "city                              float64\n",
       "customer_nw_category                int64\n",
       "branch_code                         int64\n",
       "days_since_last_transaction       float64\n",
       "current_balance                   float64\n",
       "previous_month_end_balance        float64\n",
       "average_monthly_balance_prevQ     float64\n",
       "average_monthly_balance_prevQ2    float64\n",
       "current_month_credit              float64\n",
       "previous_month_credit             float64\n",
       "current_month_debit               float64\n",
       "previous_month_debit              float64\n",
       "current_month_balance             float64\n",
       "previous_month_balance            float64\n",
       "churn                               int64\n",
       "dtype: object"
      ]
     },
     "execution_count": 9,
     "metadata": {},
     "output_type": "execute_result"
    }
   ],
   "source": [
    "data.dtypes"
   ]
  },
  {
   "cell_type": "code",
   "execution_count": 10,
   "id": "845cbbad",
   "metadata": {},
   "outputs": [
    {
     "data": {
      "text/plain": [
       "0.0     21435\n",
       "2.0      2150\n",
       "1.0      1395\n",
       "3.0       701\n",
       "4.0       179\n",
       "5.0        41\n",
       "6.0         8\n",
       "7.0         3\n",
       "9.0         1\n",
       "52.0        1\n",
       "36.0        1\n",
       "50.0        1\n",
       "8.0         1\n",
       "25.0        1\n",
       "32.0        1\n",
       "Name: dependents, dtype: int64"
      ]
     },
     "execution_count": 10,
     "metadata": {},
     "output_type": "execute_result"
    }
   ],
   "source": [
    "data.dependents.value_counts()"
   ]
  },
  {
   "cell_type": "code",
   "execution_count": 11,
   "id": "05ac3c7f",
   "metadata": {},
   "outputs": [],
   "source": [
    "data.dependents.fillna(0, inplace = True)"
   ]
  },
  {
   "cell_type": "code",
   "execution_count": 12,
   "id": "46f92fc4",
   "metadata": {},
   "outputs": [
    {
     "data": {
      "text/plain": [
       "customer_id                          0\n",
       "vintage                              0\n",
       "age                                  0\n",
       "gender                               0\n",
       "dependents                           0\n",
       "occupation                          80\n",
       "city                               803\n",
       "customer_nw_category                 0\n",
       "branch_code                          0\n",
       "days_since_last_transaction       3223\n",
       "current_balance                      0\n",
       "previous_month_end_balance           0\n",
       "average_monthly_balance_prevQ        0\n",
       "average_monthly_balance_prevQ2       0\n",
       "current_month_credit                 0\n",
       "previous_month_credit                0\n",
       "current_month_debit                  0\n",
       "previous_month_debit                 0\n",
       "current_month_balance                0\n",
       "previous_month_balance               0\n",
       "churn                                0\n",
       "dtype: int64"
      ]
     },
     "execution_count": 12,
     "metadata": {},
     "output_type": "execute_result"
    }
   ],
   "source": [
    "data.isnull().sum()"
   ]
  },
  {
   "cell_type": "code",
   "execution_count": 13,
   "id": "2d78757f",
   "metadata": {},
   "outputs": [
    {
     "data": {
      "text/plain": [
       "self_employed    17476\n",
       "salaried          6704\n",
       "student           2058\n",
       "retired           2024\n",
       "company             40\n",
       "Name: occupation, dtype: int64"
      ]
     },
     "execution_count": 13,
     "metadata": {},
     "output_type": "execute_result"
    }
   ],
   "source": [
    "data.occupation.value_counts()"
   ]
  },
  {
   "cell_type": "code",
   "execution_count": 14,
   "id": "832dc60b",
   "metadata": {},
   "outputs": [],
   "source": [
    "data.occupation.fillna('self_employed', inplace = True)"
   ]
  },
  {
   "cell_type": "code",
   "execution_count": 15,
   "id": "56d59dbe",
   "metadata": {},
   "outputs": [
    {
     "data": {
      "text/plain": [
       "customer_id                          0\n",
       "vintage                              0\n",
       "age                                  0\n",
       "gender                               0\n",
       "dependents                           0\n",
       "occupation                           0\n",
       "city                               803\n",
       "customer_nw_category                 0\n",
       "branch_code                          0\n",
       "days_since_last_transaction       3223\n",
       "current_balance                      0\n",
       "previous_month_end_balance           0\n",
       "average_monthly_balance_prevQ        0\n",
       "average_monthly_balance_prevQ2       0\n",
       "current_month_credit                 0\n",
       "previous_month_credit                0\n",
       "current_month_debit                  0\n",
       "previous_month_debit                 0\n",
       "current_month_balance                0\n",
       "previous_month_balance               0\n",
       "churn                                0\n",
       "dtype: int64"
      ]
     },
     "execution_count": 15,
     "metadata": {},
     "output_type": "execute_result"
    }
   ],
   "source": [
    "data.isnull().sum()"
   ]
  },
  {
   "cell_type": "code",
   "execution_count": 16,
   "id": "b32f1d5a",
   "metadata": {},
   "outputs": [
    {
     "data": {
      "text/plain": [
       "1020.0    3479\n",
       "1096.0    2016\n",
       "409.0     1334\n",
       "146.0     1291\n",
       "834.0     1138\n",
       "          ... \n",
       "748.0        1\n",
       "1099.0       1\n",
       "108.0        1\n",
       "655.0        1\n",
       "723.0        1\n",
       "Name: city, Length: 1604, dtype: int64"
      ]
     },
     "execution_count": 16,
     "metadata": {},
     "output_type": "execute_result"
    }
   ],
   "source": [
    "data.city.value_counts()"
   ]
  },
  {
   "cell_type": "code",
   "execution_count": 17,
   "id": "b17ef3eb",
   "metadata": {},
   "outputs": [],
   "source": [
    "data.city.fillna(1020, inplace = True)"
   ]
  },
  {
   "cell_type": "code",
   "execution_count": 18,
   "id": "e709299a",
   "metadata": {},
   "outputs": [
    {
     "data": {
      "text/plain": [
       "customer_id                          0\n",
       "vintage                              0\n",
       "age                                  0\n",
       "gender                               0\n",
       "dependents                           0\n",
       "occupation                           0\n",
       "city                                 0\n",
       "customer_nw_category                 0\n",
       "branch_code                          0\n",
       "days_since_last_transaction       3223\n",
       "current_balance                      0\n",
       "previous_month_end_balance           0\n",
       "average_monthly_balance_prevQ        0\n",
       "average_monthly_balance_prevQ2       0\n",
       "current_month_credit                 0\n",
       "previous_month_credit                0\n",
       "current_month_debit                  0\n",
       "previous_month_debit                 0\n",
       "current_month_balance                0\n",
       "previous_month_balance               0\n",
       "churn                                0\n",
       "dtype: int64"
      ]
     },
     "execution_count": 18,
     "metadata": {},
     "output_type": "execute_result"
    }
   ],
   "source": [
    "data.isnull().sum()"
   ]
  },
  {
   "cell_type": "markdown",
   "id": "df72befb",
   "metadata": {},
   "source": [
    "#### Days since Last Transaction\n",
    "A fair assumption can be made on this column as this is number of days since last transaction in 1 year, we can substitute missing values with a value greater than 1 year say 999"
   ]
  },
  {
   "cell_type": "code",
   "execution_count": 19,
   "id": "b9162f4e",
   "metadata": {},
   "outputs": [],
   "source": [
    "data.days_since_last_transaction.fillna(999, inplace = True)"
   ]
  },
  {
   "cell_type": "markdown",
   "id": "288443bf",
   "metadata": {},
   "source": [
    "# preprocessing "
   ]
  },
  {
   "cell_type": "code",
   "execution_count": 20,
   "id": "e38e01d2",
   "metadata": {},
   "outputs": [],
   "source": [
    "# Convert occupation to one hot encoded features\n",
    "data = pd.concat([data,pd.get_dummies(data['occupation'],prefix = str('occupation'),prefix_sep='_')],axis = 1)"
   ]
  },
  {
   "cell_type": "markdown",
   "id": "b1ff34ef",
   "metadata": {},
   "source": [
    "Now, we remember from EDA that there are a lot of outliers in the dataset especially when it comes to previous and current balance features. Also, the distributions are skewed for these features, so lets do scaling ad transformation here in order to deal with this."
   ]
  },
  {
   "cell_type": "code",
   "execution_count": 21,
   "id": "e297d300",
   "metadata": {},
   "outputs": [],
   "source": [
    "num_cols = ['customer_nw_category', 'current_balance',\n",
    "            'previous_month_end_balance', 'average_monthly_balance_prevQ2', 'average_monthly_balance_prevQ',\n",
    "            'current_month_credit','previous_month_credit', 'current_month_debit', \n",
    "            'previous_month_debit','current_month_balance', 'previous_month_balance']\n",
    "for i in num_cols:\n",
    "    data[i] = np.log(data[i] + 17000)\n",
    "\n",
    "std = StandardScaler()\n",
    "scaled = std.fit_transform(data[num_cols])\n",
    "scaled = pd.DataFrame(scaled,columns=num_cols)"
   ]
  },
  {
   "cell_type": "code",
   "execution_count": 22,
   "id": "5590ca69",
   "metadata": {},
   "outputs": [],
   "source": [
    "df_df_og = data.copy()\n",
    "data = data.drop(columns = num_cols,axis = 1)\n",
    "data = data.merge(scaled,left_index=True,right_index=True,how = \"left\")"
   ]
  },
  {
   "cell_type": "code",
   "execution_count": 23,
   "id": "e2d52dc7",
   "metadata": {},
   "outputs": [
    {
     "data": {
      "text/html": [
       "<div>\n",
       "<style scoped>\n",
       "    .dataframe tbody tr th:only-of-type {\n",
       "        vertical-align: middle;\n",
       "    }\n",
       "\n",
       "    .dataframe tbody tr th {\n",
       "        vertical-align: top;\n",
       "    }\n",
       "\n",
       "    .dataframe thead th {\n",
       "        text-align: right;\n",
       "    }\n",
       "</style>\n",
       "<table border=\"1\" class=\"dataframe\">\n",
       "  <thead>\n",
       "    <tr style=\"text-align: right;\">\n",
       "      <th></th>\n",
       "      <th>customer_id</th>\n",
       "      <th>vintage</th>\n",
       "      <th>age</th>\n",
       "      <th>gender</th>\n",
       "      <th>dependents</th>\n",
       "      <th>occupation</th>\n",
       "      <th>city</th>\n",
       "      <th>branch_code</th>\n",
       "      <th>days_since_last_transaction</th>\n",
       "      <th>churn</th>\n",
       "      <th>...</th>\n",
       "      <th>current_balance</th>\n",
       "      <th>previous_month_end_balance</th>\n",
       "      <th>average_monthly_balance_prevQ2</th>\n",
       "      <th>average_monthly_balance_prevQ</th>\n",
       "      <th>current_month_credit</th>\n",
       "      <th>previous_month_credit</th>\n",
       "      <th>current_month_debit</th>\n",
       "      <th>previous_month_debit</th>\n",
       "      <th>current_month_balance</th>\n",
       "      <th>previous_month_balance</th>\n",
       "    </tr>\n",
       "  </thead>\n",
       "  <tbody>\n",
       "    <tr>\n",
       "      <th>0</th>\n",
       "      <td>1</td>\n",
       "      <td>3135</td>\n",
       "      <td>66</td>\n",
       "      <td>1.0</td>\n",
       "      <td>0.0</td>\n",
       "      <td>self_employed</td>\n",
       "      <td>187.0</td>\n",
       "      <td>755</td>\n",
       "      <td>224.0</td>\n",
       "      <td>0</td>\n",
       "      <td>...</td>\n",
       "      <td>-0.613738</td>\n",
       "      <td>-0.632367</td>\n",
       "      <td>-0.630646</td>\n",
       "      <td>-0.697612</td>\n",
       "      <td>-0.313931</td>\n",
       "      <td>-0.324487</td>\n",
       "      <td>-0.368251</td>\n",
       "      <td>-0.377390</td>\n",
       "      <td>-0.653455</td>\n",
       "      <td>-0.666207</td>\n",
       "    </tr>\n",
       "    <tr>\n",
       "      <th>1</th>\n",
       "      <td>2</td>\n",
       "      <td>310</td>\n",
       "      <td>35</td>\n",
       "      <td>1.0</td>\n",
       "      <td>0.0</td>\n",
       "      <td>self_employed</td>\n",
       "      <td>1020.0</td>\n",
       "      <td>3214</td>\n",
       "      <td>60.0</td>\n",
       "      <td>0</td>\n",
       "      <td>...</td>\n",
       "      <td>0.011267</td>\n",
       "      <td>0.446458</td>\n",
       "      <td>0.949414</td>\n",
       "      <td>0.317595</td>\n",
       "      <td>-0.313852</td>\n",
       "      <td>-0.324410</td>\n",
       "      <td>0.640986</td>\n",
       "      <td>-0.355677</td>\n",
       "      <td>0.149440</td>\n",
       "      <td>0.455680</td>\n",
       "    </tr>\n",
       "    <tr>\n",
       "      <th>2</th>\n",
       "      <td>4</td>\n",
       "      <td>2356</td>\n",
       "      <td>31</td>\n",
       "      <td>1.0</td>\n",
       "      <td>0.0</td>\n",
       "      <td>salaried</td>\n",
       "      <td>146.0</td>\n",
       "      <td>41</td>\n",
       "      <td>999.0</td>\n",
       "      <td>0</td>\n",
       "      <td>...</td>\n",
       "      <td>-0.209651</td>\n",
       "      <td>0.057975</td>\n",
       "      <td>-0.388637</td>\n",
       "      <td>-0.108263</td>\n",
       "      <td>-0.313841</td>\n",
       "      <td>-0.324400</td>\n",
       "      <td>0.729825</td>\n",
       "      <td>-0.321607</td>\n",
       "      <td>-0.068597</td>\n",
       "      <td>-0.066642</td>\n",
       "    </tr>\n",
       "    <tr>\n",
       "      <th>3</th>\n",
       "      <td>5</td>\n",
       "      <td>478</td>\n",
       "      <td>90</td>\n",
       "      <td>-1.0</td>\n",
       "      <td>0.0</td>\n",
       "      <td>self_employed</td>\n",
       "      <td>1020.0</td>\n",
       "      <td>582</td>\n",
       "      <td>147.0</td>\n",
       "      <td>1</td>\n",
       "      <td>...</td>\n",
       "      <td>-0.470836</td>\n",
       "      <td>-0.488530</td>\n",
       "      <td>-0.712855</td>\n",
       "      <td>-0.582976</td>\n",
       "      <td>-0.313872</td>\n",
       "      <td>-0.324429</td>\n",
       "      <td>-0.368193</td>\n",
       "      <td>0.060593</td>\n",
       "      <td>-0.506570</td>\n",
       "      <td>-0.628056</td>\n",
       "    </tr>\n",
       "    <tr>\n",
       "      <th>4</th>\n",
       "      <td>6</td>\n",
       "      <td>2531</td>\n",
       "      <td>42</td>\n",
       "      <td>1.0</td>\n",
       "      <td>2.0</td>\n",
       "      <td>self_employed</td>\n",
       "      <td>1494.0</td>\n",
       "      <td>388</td>\n",
       "      <td>58.0</td>\n",
       "      <td>1</td>\n",
       "      <td>...</td>\n",
       "      <td>-0.708214</td>\n",
       "      <td>-0.642441</td>\n",
       "      <td>-0.554058</td>\n",
       "      <td>-0.663399</td>\n",
       "      <td>-0.313902</td>\n",
       "      <td>-0.175104</td>\n",
       "      <td>-0.245463</td>\n",
       "      <td>-0.057927</td>\n",
       "      <td>-0.708257</td>\n",
       "      <td>-0.626732</td>\n",
       "    </tr>\n",
       "  </tbody>\n",
       "</table>\n",
       "<p>5 rows × 26 columns</p>\n",
       "</div>"
      ],
      "text/plain": [
       "   customer_id  vintage  age  gender  dependents     occupation    city  \\\n",
       "0            1     3135   66     1.0         0.0  self_employed   187.0   \n",
       "1            2      310   35     1.0         0.0  self_employed  1020.0   \n",
       "2            4     2356   31     1.0         0.0       salaried   146.0   \n",
       "3            5      478   90    -1.0         0.0  self_employed  1020.0   \n",
       "4            6     2531   42     1.0         2.0  self_employed  1494.0   \n",
       "\n",
       "   branch_code  days_since_last_transaction  churn  ...  current_balance  \\\n",
       "0          755                        224.0      0  ...        -0.613738   \n",
       "1         3214                         60.0      0  ...         0.011267   \n",
       "2           41                        999.0      0  ...        -0.209651   \n",
       "3          582                        147.0      1  ...        -0.470836   \n",
       "4          388                         58.0      1  ...        -0.708214   \n",
       "\n",
       "   previous_month_end_balance  average_monthly_balance_prevQ2  \\\n",
       "0                   -0.632367                       -0.630646   \n",
       "1                    0.446458                        0.949414   \n",
       "2                    0.057975                       -0.388637   \n",
       "3                   -0.488530                       -0.712855   \n",
       "4                   -0.642441                       -0.554058   \n",
       "\n",
       "   average_monthly_balance_prevQ  current_month_credit  previous_month_credit  \\\n",
       "0                      -0.697612             -0.313931              -0.324487   \n",
       "1                       0.317595             -0.313852              -0.324410   \n",
       "2                      -0.108263             -0.313841              -0.324400   \n",
       "3                      -0.582976             -0.313872              -0.324429   \n",
       "4                      -0.663399             -0.313902              -0.175104   \n",
       "\n",
       "   current_month_debit  previous_month_debit  current_month_balance  \\\n",
       "0            -0.368251             -0.377390              -0.653455   \n",
       "1             0.640986             -0.355677               0.149440   \n",
       "2             0.729825             -0.321607              -0.068597   \n",
       "3            -0.368193              0.060593              -0.506570   \n",
       "4            -0.245463             -0.057927              -0.708257   \n",
       "\n",
       "   previous_month_balance  \n",
       "0               -0.666207  \n",
       "1                0.455680  \n",
       "2               -0.066642  \n",
       "3               -0.628056  \n",
       "4               -0.626732  \n",
       "\n",
       "[5 rows x 26 columns]"
      ]
     },
     "execution_count": 23,
     "metadata": {},
     "output_type": "execute_result"
    }
   ],
   "source": [
    "data.head()"
   ]
  },
  {
   "cell_type": "code",
   "execution_count": 24,
   "id": "a37a7f4e",
   "metadata": {},
   "outputs": [],
   "source": [
    "y_all = data.churn\n",
    "data = data.drop(['churn','customer_id','occupation'],axis = 1)"
   ]
  },
  {
   "cell_type": "markdown",
   "id": "3e0012e8",
   "metadata": {},
   "source": [
    "# model building and evaluation metric\n",
    "since, this is a binary classification problem, we will be using majorly two metric from the business perspective.\n",
    "- Recall\n",
    "- AUC-ROC\n",
    "\n",
    "AUC-ROC to compare the performance of the different models we trained.\n",
    "Recall because if a customer is marked as churn and he is actually not churning is not that bad as he may get some extra services or calls in that condition, but if a customer is marked as not churn but he is actually churning will cost the client to its business, so ***false negative*** is something ,which we want to minimize."
   ]
  },
  {
   "cell_type": "markdown",
   "id": "53043725",
   "metadata": {},
   "source": [
    "### Conclusions from EDA\n",
    "* For debit values, we see that there is a significant difference in the distribution for churn and non churn and it might be turn out to be an important feature\n",
    "* For all the balance features the lower values have much higher proportion of churning customers\n",
    "* For most frequent vintage values, the churning customers are slightly higher, while for higher values of vintage, we have mostly non churning customers which is in sync with the age variable \n",
    "* We  have seen significant difference for different occupations wrt churning"
   ]
  },
  {
   "cell_type": "markdown",
   "id": "baed9400",
   "metadata": {},
   "source": [
    "# Baseline columns"
   ]
  },
  {
   "cell_type": "code",
   "execution_count": 25,
   "id": "a373c813",
   "metadata": {},
   "outputs": [],
   "source": [
    "baseline_cols = ['current_month_debit', 'previous_month_debit','current_balance','previous_month_end_balance','vintage'\n",
    "                 ,'occupation_retired', 'occupation_salaried','occupation_self_employed', 'occupation_student']"
   ]
  },
  {
   "cell_type": "code",
   "execution_count": 26,
   "id": "82efe28a",
   "metadata": {},
   "outputs": [],
   "source": [
    "df_baseline = data[baseline_cols]"
   ]
  },
  {
   "cell_type": "markdown",
   "id": "3ba20232",
   "metadata": {},
   "source": [
    "# train test split to create validation set"
   ]
  },
  {
   "cell_type": "code",
   "execution_count": 27,
   "id": "01231206",
   "metadata": {},
   "outputs": [],
   "source": [
    "xtrain, xtest, ytrain, ytest = train_test_split(df_baseline, y_all, test_size = 1/3, stratify = y_all, random_state = 42)"
   ]
  },
  {
   "cell_type": "code",
   "execution_count": 28,
   "id": "e36905fb",
   "metadata": {},
   "outputs": [],
   "source": [
    "model = LogisticRegression()\n",
    "model.fit(xtrain,ytrain)\n",
    "pred = model.predict_proba(xtest)[:,1]"
   ]
  },
  {
   "cell_type": "code",
   "execution_count": 29,
   "id": "7b53864c",
   "metadata": {},
   "outputs": [
    {
     "data": {
      "image/png": "[encoded data removed]",
      "text/plain": [
       "<Figure size 864x576 with 1 Axes>"
      ]
     },
     "metadata": {
      "needs_background": "light"
     },
     "output_type": "display_data"
    }
   ],
   "source": [
    "from sklearn.metrics import roc_curve\n",
    "fpr, tpr, _ = roc_curve(ytest,pred) \n",
    "auc = roc_auc_score(ytest, pred) \n",
    "plt.figure(figsize=(12,8)) \n",
    "plt.plot(fpr,tpr,label=\"Validation AUC-ROC=\"+str(auc)) \n",
    "x = np.linspace(0, 1, 1000)\n",
    "plt.plot(x, x, linestyle='-')\n",
    "plt.xlabel('False Positive Rate') \n",
    "plt.ylabel('True Positive Rate') \n",
    "plt.legend(loc=4) \n",
    "plt.show()"
   ]
  },
  {
   "cell_type": "code",
   "execution_count": 30,
   "id": "58aafdac",
   "metadata": {},
   "outputs": [],
   "source": [
    "# Confusion Matrix\n",
    "pred_val = model.predict(xtest)"
   ]
  },
  {
   "cell_type": "code",
   "execution_count": 31,
   "id": "4c522f49",
   "metadata": {},
   "outputs": [
    {
     "data": {
      "image/png": "[encoded data removed]",
      "text/plain": [
       "<Figure size 504x432 with 2 Axes>"
      ]
     },
     "metadata": {
      "needs_background": "light"
     },
     "output_type": "display_data"
    }
   ],
   "source": [
    "label_preds = pred_val\n",
    "\n",
    "cm = confusion_matrix(ytest,label_preds)\n",
    "\n",
    "\n",
    "def plot_confusion_matrix(cm, normalized=True, cmap='bone'):\n",
    "    plt.figure(figsize=[7, 6])\n",
    "    norm_cm = cm\n",
    "    if normalized:\n",
    "        norm_cm = cm.astype('float') / cm.sum(axis=1)[:, np.newaxis]\n",
    "        sns.heatmap(norm_cm, annot=cm, fmt='g', xticklabels=['Predicted: No','Predicted: Yes'], yticklabels=['Actual: No','Actual: Yes'], cmap=cmap)\n",
    "\n",
    "plot_confusion_matrix(cm, ['No', 'Yes'])"
   ]
  },
  {
   "cell_type": "code",
   "execution_count": 32,
   "id": "a0b42730",
   "metadata": {},
   "outputs": [
    {
     "data": {
      "text/plain": [
       "0.14318311466058187"
      ]
     },
     "execution_count": 32,
     "metadata": {},
     "output_type": "execute_result"
    }
   ],
   "source": [
    "# Recall Score\n",
    "recall_score(ytest,pred_val)"
   ]
  },
  {
   "cell_type": "code",
   "execution_count": 33,
   "id": "e1f7a39a",
   "metadata": {},
   "outputs": [
    {
     "data": {
      "text/plain": [
       "0.8285593489060353"
      ]
     },
     "execution_count": 33,
     "metadata": {},
     "output_type": "execute_result"
    }
   ],
   "source": [
    "accuracy_score(ytest,pred_val)"
   ]
  },
  {
   "cell_type": "code",
   "execution_count": 34,
   "id": "2e2abbc5",
   "metadata": {},
   "outputs": [],
   "source": [
    "#we can clearly see that even if my accuracy score is 82% which could be considered as good , my recall is just 13% which is not \n",
    "#desired from the businees point of view , so we really need to improve on it(large no. of false negative)"
   ]
  },
  {
   "cell_type": "markdown",
   "id": "fdbf9004",
   "metadata": {},
   "source": [
    "# K-fold cross validation"
   ]
  },
  {
   "cell_type": "code",
   "execution_count": 35,
   "id": "d6f9dda1",
   "metadata": {},
   "outputs": [],
   "source": [
    "def cv_score(ml_model, rstate = 12, thres = 0.5, cols = data.columns):\n",
    "    i = 1\n",
    "    cv_scores = []\n",
    "    df1 = data.copy()\n",
    "    df1 = data[cols]\n",
    "    \n",
    "    # 5 Fold cross validation stratified on the basis of target\n",
    "    kf = StratifiedKFold(n_splits=5,random_state=rstate,shuffle=True)\n",
    "    for df_index,test_index in kf.split(df1,y_all):\n",
    "        print('\\n{} of kfold {}'.format(i,kf.n_splits))\n",
    "        xtr,xvl = df1.loc[df_index],df1.loc[test_index]\n",
    "        ytr,yvl = y_all.loc[df_index],y_all.loc[test_index]\n",
    "            \n",
    "        # Define model for fitting on the training set for each fold\n",
    "        model = ml_model\n",
    "        model.fit(xtr, ytr)\n",
    "        pred_probs = model.predict_proba(xvl)\n",
    "        pp = []\n",
    "         \n",
    "        # Use threshold to define the classes based on probability values\n",
    "        for j in pred_probs[:,1]:\n",
    "            if j>thres:\n",
    "                pp.append(1)\n",
    "            else:\n",
    "                pp.append(0)\n",
    "         \n",
    "        # Calculate scores for each fold and print\n",
    "        pred_val = pp\n",
    "        roc_score = roc_auc_score(yvl,pred_probs[:,1])\n",
    "        recall = recall_score(yvl,pred_val)\n",
    "        precision = precision_score(yvl,pred_val)\n",
    "        accuracy = accuracy_score(yvl,pred_val)\n",
    "        sufix = \"\"\n",
    "        msg = \"\"\n",
    "        msg += \"ROC AUC Score: {}, Recall Score: {:.4f}, Precision Score: {:.4f}, Accuracy: {:.4f} \".format(roc_score, recall,precision, accuracy)\n",
    "        print(\"{}\".format(msg))\n",
    "         \n",
    "         # Save scores\n",
    "        cv_scores.append(roc_score)\n",
    "        i+=1\n",
    "    return cv_scores"
   ]
  },
  {
   "cell_type": "code",
   "execution_count": 36,
   "id": "d721c102",
   "metadata": {},
   "outputs": [
    {
     "name": "stdout",
     "output_type": "stream",
     "text": [
      "\n",
      "1 of kfold 5\n",
      "ROC AUC Score: 0.7644836090843695, Recall Score: 0.0751, Precision Score: 0.5766, Accuracy: 0.8184 \n",
      "\n",
      "2 of kfold 5\n",
      "ROC AUC Score: 0.7798111191038948, Recall Score: 0.0751, Precision Score: 0.6695, Accuracy: 0.8217 \n",
      "\n",
      "3 of kfold 5\n",
      "ROC AUC Score: 0.7552480774797059, Recall Score: 0.1350, Precision Score: 0.6425, Accuracy: 0.8258 \n",
      "\n",
      "4 of kfold 5\n",
      "ROC AUC Score: 0.7582093590064074, Recall Score: 0.1169, Precision Score: 0.6508, Accuracy: 0.8247 \n",
      "\n",
      "5 of kfold 5\n",
      "ROC AUC Score: 0.7622096073387978, Recall Score: 0.1103, Precision Score: 0.5800, Accuracy: 0.8203 \n"
     ]
    }
   ],
   "source": [
    "baseline_scores = cv_score(LogisticRegression(), cols = baseline_cols)"
   ]
  },
  {
   "cell_type": "code",
   "execution_count": 37,
   "id": "cc711ac2",
   "metadata": {},
   "outputs": [
    {
     "name": "stdout",
     "output_type": "stream",
     "text": [
      "\n",
      "1 of kfold 5\n",
      "ROC AUC Score: 0.7644836090843695, Recall Score: 0.0532, Precision Score: 0.6364, Accuracy: 0.8189 \n",
      "\n",
      "2 of kfold 5\n",
      "ROC AUC Score: 0.7798111191038948, Recall Score: 0.0475, Precision Score: 0.6579, Accuracy: 0.8189 \n",
      "\n",
      "3 of kfold 5\n",
      "ROC AUC Score: 0.7552480774797059, Recall Score: 0.0856, Precision Score: 0.6040, Accuracy: 0.8201 \n",
      "\n",
      "4 of kfold 5\n",
      "ROC AUC Score: 0.7582093590064074, Recall Score: 0.0732, Precision Score: 0.6581, Accuracy: 0.8212 \n",
      "\n",
      "5 of kfold 5\n",
      "ROC AUC Score: 0.7622096073387978, Recall Score: 0.0779, Precision Score: 0.5942, Accuracy: 0.8192 \n"
     ]
    }
   ],
   "source": [
    "# lets try with a different threshold\n",
    "baseline_scores = cv_score(LogisticRegression(), cols = baseline_cols, thres = 0.6)\n",
    "#recall has decreased significantly"
   ]
  },
  {
   "cell_type": "code",
   "execution_count": 38,
   "id": "cadca44b",
   "metadata": {},
   "outputs": [
    {
     "name": "stdout",
     "output_type": "stream",
     "text": [
      "\n",
      "1 of kfold 5\n",
      "ROC AUC Score: 0.7644836090843695, Recall Score: 0.1198, Precision Score: 0.5650, Accuracy: 0.8198 \n",
      "\n",
      "2 of kfold 5\n",
      "ROC AUC Score: 0.7798111191038948, Recall Score: 0.1293, Precision Score: 0.6800, Accuracy: 0.8274 \n",
      "\n",
      "3 of kfold 5\n",
      "ROC AUC Score: 0.7552480774797059, Recall Score: 0.2196, Precision Score: 0.6311, Accuracy: 0.8316 \n",
      "\n",
      "4 of kfold 5\n",
      "ROC AUC Score: 0.7582093590064074, Recall Score: 0.1930, Precision Score: 0.6444, Accuracy: 0.8307 \n",
      "\n",
      "5 of kfold 5\n",
      "ROC AUC Score: 0.7622096073387978, Recall Score: 0.1854, Precision Score: 0.5702, Accuracy: 0.8231 \n"
     ]
    }
   ],
   "source": [
    "baseline_scores = cv_score(LogisticRegression(), cols = baseline_cols, thres = 0.4)\n",
    "#recall score has improved significantly"
   ]
  },
  {
   "cell_type": "code",
   "execution_count": 39,
   "id": "a9326a2f",
   "metadata": {},
   "outputs": [
    {
     "name": "stdout",
     "output_type": "stream",
     "text": [
      "\n",
      "1 of kfold 5\n",
      "ROC AUC Score: 0.7644836090843695, Recall Score: 0.2319, Precision Score: 0.5533, Accuracy: 0.8230 \n",
      "\n",
      "2 of kfold 5\n",
      "ROC AUC Score: 0.7798111191038948, Recall Score: 0.2452, Precision Score: 0.6719, Accuracy: 0.8379 \n",
      "\n",
      "3 of kfold 5\n",
      "ROC AUC Score: 0.7552480774797059, Recall Score: 0.3878, Precision Score: 0.6062, Accuracy: 0.8399 \n",
      "\n",
      "4 of kfold 5\n",
      "ROC AUC Score: 0.7582093590064074, Recall Score: 0.3317, Precision Score: 0.5895, Accuracy: 0.8333 \n",
      "\n",
      "5 of kfold 5\n",
      "ROC AUC Score: 0.7622096073387978, Recall Score: 0.3270, Precision Score: 0.5811, Accuracy: 0.8316 \n"
     ]
    }
   ],
   "source": [
    "baseline_scores = cv_score(LogisticRegression(), cols = baseline_cols, thres = 0.3)\n",
    "# recall score is improving which is quite intuitive as well becaue if we are treating everyhing as positive, false negative will\n",
    "# decrease automatically"
   ]
  },
  {
   "cell_type": "code",
   "execution_count": 40,
   "id": "e81f1406",
   "metadata": {},
   "outputs": [
    {
     "name": "stdout",
     "output_type": "stream",
     "text": [
      "\n",
      "1 of kfold 5\n",
      "ROC AUC Score: 0.7644836090843695, Recall Score: 0.5722, Precision Score: 0.4725, Accuracy: 0.8024 \n",
      "\n",
      "2 of kfold 5\n",
      "ROC AUC Score: 0.7798111191038948, Recall Score: 0.6340, Precision Score: 0.4894, Accuracy: 0.8096 \n",
      "\n",
      "3 of kfold 5\n",
      "ROC AUC Score: 0.7552480774797059, Recall Score: 0.6435, Precision Score: 0.4076, Accuracy: 0.7606 \n",
      "\n",
      "4 of kfold 5\n",
      "ROC AUC Score: 0.7582093590064074, Recall Score: 0.6369, Precision Score: 0.3998, Accuracy: 0.7555 \n",
      "\n",
      "5 of kfold 5\n",
      "ROC AUC Score: 0.7622096073387978, Recall Score: 0.6378, Precision Score: 0.4288, Accuracy: 0.7754 \n"
     ]
    }
   ],
   "source": [
    "baseline_scores = cv_score(LogisticRegression(), cols = baseline_cols, thres = 0.2)\n",
    "# now we can see that , on putting threshold as 0.2 , accuracy has decreased significantly , whereas recall score has improved significantly\n",
    "#so its really not a good idea to put threshold as 0.2"
   ]
  },
  {
   "cell_type": "markdown",
   "id": "329ddefb",
   "metadata": {},
   "source": [
    "# training model on all the features available"
   ]
  },
  {
   "cell_type": "code",
   "execution_count": 41,
   "id": "5da87a9f",
   "metadata": {},
   "outputs": [
    {
     "name": "stdout",
     "output_type": "stream",
     "text": [
      "\n",
      "1 of kfold 5\n",
      "ROC AUC Score: 0.7331285582160108, Recall Score: 0.1093, Precision Score: 0.5044, Accuracy: 0.8150 \n",
      "\n",
      "2 of kfold 5\n",
      "ROC AUC Score: 0.767930531291748, Recall Score: 0.1968, Precision Score: 0.6832, Accuracy: 0.8342 \n",
      "\n",
      "3 of kfold 5\n",
      "ROC AUC Score: 0.7392551015038088, Recall Score: 0.1683, Precision Score: 0.5728, Accuracy: 0.8226 \n",
      "\n",
      "4 of kfold 5\n",
      "ROC AUC Score: 0.7303938699725026, Recall Score: 0.1093, Precision Score: 0.6216, Accuracy: 0.8226 \n",
      "\n",
      "5 of kfold 5\n",
      "ROC AUC Score: 0.7588244339337166, Recall Score: 0.1730, Precision Score: 0.5987, Accuracy: 0.8252 \n"
     ]
    }
   ],
   "source": [
    "#lets try to run the model on all the features\n",
    "all_feat_scores = cv_score(LogisticRegression())"
   ]
  },
  {
   "cell_type": "code",
   "execution_count": 42,
   "id": "6b5b44dc",
   "metadata": {},
   "outputs": [
    {
     "name": "stdout",
     "output_type": "stream",
     "text": [
      "\n",
      "1 of kfold 5\n",
      "ROC AUC Score: 0.7331285582160108, Recall Score: 0.3945, Precision Score: 0.4663, Accuracy: 0.8041 \n",
      "\n",
      "2 of kfold 5\n",
      "ROC AUC Score: 0.767930531291748, Recall Score: 0.4971, Precision Score: 0.5883, Accuracy: 0.8423 \n",
      "\n",
      "3 of kfold 5\n",
      "ROC AUC Score: 0.7392551015038088, Recall Score: 0.4705, Precision Score: 0.4960, Accuracy: 0.8132 \n",
      "\n",
      "4 of kfold 5\n",
      "ROC AUC Score: 0.7303938699725026, Recall Score: 0.3707, Precision Score: 0.5039, Accuracy: 0.8157 \n",
      "\n",
      "5 of kfold 5\n",
      "ROC AUC Score: 0.7588244339337166, Recall Score: 0.4259, Precision Score: 0.5470, Accuracy: 0.8282 \n"
     ]
    }
   ],
   "source": [
    "#lets try with the threshold of 0.3 which has given the best result in baseline model\n",
    "all_feat_scores = cv_score(LogisticRegression(), thres = 0.3)\n",
    "#we can see almost the same accuracy but the recall score has improved"
   ]
  },
  {
   "cell_type": "markdown",
   "id": "9ffa7a6e",
   "metadata": {},
   "source": [
    "# feature selection\n",
    "- We have already built a model using all the features and a separate model using some baseline features. We can try using backward feature elimination to check if we can do better, so will use rfe\n",
    "- then further will use boruta which is an all important feature selection algorithm"
   ]
  },
  {
   "cell_type": "code",
   "execution_count": 43,
   "id": "fa295ba9",
   "metadata": {},
   "outputs": [
    {
     "data": {
      "text/plain": [
       "RFE(estimator=LogisticRegression(), n_features_to_select=1)"
      ]
     },
     "execution_count": 43,
     "metadata": {},
     "output_type": "execute_result"
    }
   ],
   "source": [
    "from sklearn.feature_selection import RFE\n",
    "import matplotlib.pyplot as plt\n",
    "\n",
    "# Create the RFE object and rank each feature\n",
    "model = LogisticRegression()\n",
    "rfe = RFE(estimator=model, n_features_to_select=1, step=1)\n",
    "rfe.fit(data, y_all)"
   ]
  },
  {
   "cell_type": "code",
   "execution_count": 44,
   "id": "5d6125f7",
   "metadata": {},
   "outputs": [],
   "source": [
    "ranking_df = pd.DataFrame()\n",
    "ranking_df['Feature_name'] = data.columns\n",
    "ranking_df['Rank'] = rfe.ranking_"
   ]
  },
  {
   "cell_type": "code",
   "execution_count": 45,
   "id": "61515e6f",
   "metadata": {},
   "outputs": [],
   "source": [
    "ranked = ranking_df.sort_values(by=['Rank'])"
   ]
  },
  {
   "cell_type": "code",
   "execution_count": 46,
   "id": "c42dd1de",
   "metadata": {},
   "outputs": [
    {
     "data": {
      "text/html": [
       "<div>\n",
       "<style scoped>\n",
       "    .dataframe tbody tr th:only-of-type {\n",
       "        vertical-align: middle;\n",
       "    }\n",
       "\n",
       "    .dataframe tbody tr th {\n",
       "        vertical-align: top;\n",
       "    }\n",
       "\n",
       "    .dataframe thead th {\n",
       "        text-align: right;\n",
       "    }\n",
       "</style>\n",
       "<table border=\"1\" class=\"dataframe\">\n",
       "  <thead>\n",
       "    <tr style=\"text-align: right;\">\n",
       "      <th></th>\n",
       "      <th>Feature_name</th>\n",
       "      <th>Rank</th>\n",
       "    </tr>\n",
       "  </thead>\n",
       "  <tbody>\n",
       "    <tr>\n",
       "      <th>13</th>\n",
       "      <td>current_balance</td>\n",
       "      <td>1</td>\n",
       "    </tr>\n",
       "    <tr>\n",
       "      <th>16</th>\n",
       "      <td>average_monthly_balance_prevQ</td>\n",
       "      <td>2</td>\n",
       "    </tr>\n",
       "    <tr>\n",
       "      <th>7</th>\n",
       "      <td>occupation_company</td>\n",
       "      <td>3</td>\n",
       "    </tr>\n",
       "    <tr>\n",
       "      <th>15</th>\n",
       "      <td>average_monthly_balance_prevQ2</td>\n",
       "      <td>4</td>\n",
       "    </tr>\n",
       "    <tr>\n",
       "      <th>21</th>\n",
       "      <td>current_month_balance</td>\n",
       "      <td>5</td>\n",
       "    </tr>\n",
       "    <tr>\n",
       "      <th>22</th>\n",
       "      <td>previous_month_balance</td>\n",
       "      <td>6</td>\n",
       "    </tr>\n",
       "    <tr>\n",
       "      <th>19</th>\n",
       "      <td>current_month_debit</td>\n",
       "      <td>7</td>\n",
       "    </tr>\n",
       "    <tr>\n",
       "      <th>8</th>\n",
       "      <td>occupation_retired</td>\n",
       "      <td>8</td>\n",
       "    </tr>\n",
       "    <tr>\n",
       "      <th>20</th>\n",
       "      <td>previous_month_debit</td>\n",
       "      <td>9</td>\n",
       "    </tr>\n",
       "    <tr>\n",
       "      <th>11</th>\n",
       "      <td>occupation_student</td>\n",
       "      <td>10</td>\n",
       "    </tr>\n",
       "    <tr>\n",
       "      <th>9</th>\n",
       "      <td>occupation_salaried</td>\n",
       "      <td>11</td>\n",
       "    </tr>\n",
       "    <tr>\n",
       "      <th>17</th>\n",
       "      <td>current_month_credit</td>\n",
       "      <td>12</td>\n",
       "    </tr>\n",
       "    <tr>\n",
       "      <th>12</th>\n",
       "      <td>customer_nw_category</td>\n",
       "      <td>13</td>\n",
       "    </tr>\n",
       "    <tr>\n",
       "      <th>2</th>\n",
       "      <td>gender</td>\n",
       "      <td>14</td>\n",
       "    </tr>\n",
       "    <tr>\n",
       "      <th>3</th>\n",
       "      <td>dependents</td>\n",
       "      <td>15</td>\n",
       "    </tr>\n",
       "    <tr>\n",
       "      <th>14</th>\n",
       "      <td>previous_month_end_balance</td>\n",
       "      <td>16</td>\n",
       "    </tr>\n",
       "    <tr>\n",
       "      <th>18</th>\n",
       "      <td>previous_month_credit</td>\n",
       "      <td>17</td>\n",
       "    </tr>\n",
       "    <tr>\n",
       "      <th>1</th>\n",
       "      <td>age</td>\n",
       "      <td>18</td>\n",
       "    </tr>\n",
       "    <tr>\n",
       "      <th>6</th>\n",
       "      <td>days_since_last_transaction</td>\n",
       "      <td>19</td>\n",
       "    </tr>\n",
       "    <tr>\n",
       "      <th>4</th>\n",
       "      <td>city</td>\n",
       "      <td>20</td>\n",
       "    </tr>\n",
       "    <tr>\n",
       "      <th>0</th>\n",
       "      <td>vintage</td>\n",
       "      <td>21</td>\n",
       "    </tr>\n",
       "    <tr>\n",
       "      <th>10</th>\n",
       "      <td>occupation_self_employed</td>\n",
       "      <td>22</td>\n",
       "    </tr>\n",
       "    <tr>\n",
       "      <th>5</th>\n",
       "      <td>branch_code</td>\n",
       "      <td>23</td>\n",
       "    </tr>\n",
       "  </tbody>\n",
       "</table>\n",
       "</div>"
      ],
      "text/plain": [
       "                      Feature_name  Rank\n",
       "13                 current_balance     1\n",
       "16   average_monthly_balance_prevQ     2\n",
       "7               occupation_company     3\n",
       "15  average_monthly_balance_prevQ2     4\n",
       "21           current_month_balance     5\n",
       "22          previous_month_balance     6\n",
       "19             current_month_debit     7\n",
       "8               occupation_retired     8\n",
       "20            previous_month_debit     9\n",
       "11              occupation_student    10\n",
       "9              occupation_salaried    11\n",
       "17            current_month_credit    12\n",
       "12            customer_nw_category    13\n",
       "2                           gender    14\n",
       "3                       dependents    15\n",
       "14      previous_month_end_balance    16\n",
       "18           previous_month_credit    17\n",
       "1                              age    18\n",
       "6      days_since_last_transaction    19\n",
       "4                             city    20\n",
       "0                          vintage    21\n",
       "10        occupation_self_employed    22\n",
       "5                      branch_code    23"
      ]
     },
     "execution_count": 46,
     "metadata": {},
     "output_type": "execute_result"
    }
   ],
   "source": [
    "ranked"
   ]
  },
  {
   "cell_type": "code",
   "execution_count": 47,
   "id": "3e0d5741",
   "metadata": {},
   "outputs": [
    {
     "name": "stdout",
     "output_type": "stream",
     "text": [
      "\n",
      "1 of kfold 5\n",
      "ROC AUC Score: 0.798970712157024, Recall Score: 0.2310, Precision Score: 0.7275, Accuracy: 0.8415 \n",
      "\n",
      "2 of kfold 5\n",
      "ROC AUC Score: 0.8074165039564278, Recall Score: 0.2215, Precision Score: 0.7565, Accuracy: 0.8425 \n",
      "\n",
      "3 of kfold 5\n",
      "ROC AUC Score: 0.7999824440512058, Recall Score: 0.2281, Precision Score: 0.7186, Accuracy: 0.8404 \n",
      "\n",
      "4 of kfold 5\n",
      "ROC AUC Score: 0.7945403054981779, Recall Score: 0.2082, Precision Score: 0.7300, Accuracy: 0.8390 \n",
      "\n",
      "5 of kfold 5\n",
      "ROC AUC Score: 0.7947917214861789, Recall Score: 0.1930, Precision Score: 0.6700, Accuracy: 0.8328 \n"
     ]
    }
   ],
   "source": [
    "rfe_top_10_scores = cv_score(LogisticRegression(), cols = ranked['Feature_name'][:10].values)"
   ]
  },
  {
   "cell_type": "markdown",
   "id": "04d9501d",
   "metadata": {},
   "source": [
    "# we can see much improvment in our score of roc and auc as well as precision and recall"
   ]
  },
  {
   "cell_type": "code",
   "execution_count": 48,
   "id": "aee8b595",
   "metadata": {},
   "outputs": [
    {
     "name": "stdout",
     "output_type": "stream",
     "text": [
      "\n",
      "1 of kfold 5\n",
      "ROC AUC Score: 0.798970712157024, Recall Score: 0.4629, Precision Score: 0.6165, Accuracy: 0.8471 \n",
      "\n",
      "2 of kfold 5\n",
      "ROC AUC Score: 0.8074165039564278, Recall Score: 0.4572, Precision Score: 0.6634, Accuracy: 0.8564 \n",
      "\n",
      "3 of kfold 5\n",
      "ROC AUC Score: 0.7999824440512058, Recall Score: 0.4743, Precision Score: 0.6644, Accuracy: 0.8582 \n",
      "\n",
      "4 of kfold 5\n",
      "ROC AUC Score: 0.7945403054981779, Recall Score: 0.4781, Precision Score: 0.6295, Accuracy: 0.8511 \n",
      "\n",
      "5 of kfold 5\n",
      "ROC AUC Score: 0.7947917214861789, Recall Score: 0.4240, Precision Score: 0.6299, Accuracy: 0.8471 \n"
     ]
    }
   ],
   "source": [
    "# lets try with the different threshold as well\n",
    "rfe_top_10_scores = cv_score(LogisticRegression(), cols = ranked['Feature_name'][:10].values, thres = 0.3)\n",
    "#our accuracy has imroved as well as recall with certain sacrifice with precision score"
   ]
  },
  {
   "cell_type": "markdown",
   "id": "f4c9adf8",
   "metadata": {},
   "source": [
    "- We observe that there is continuous improvement in the Recall Score. However, clearly precision score is going down. On the basis of business requirement the bank can take a call on deciding the threshold. Without knowing the metrics relevant to the business, our best course of action should to optimize for AUC ROC Score so as to find the best probabilites here.\n",
    "- and if the target is to get the best recall as guessed earlier , even then we need to look at the trade off of precision recall and try to come up with the value which also dont harm much my precision"
   ]
  },
  {
   "cell_type": "code",
   "execution_count": 49,
   "id": "94754c6d",
   "metadata": {},
   "outputs": [],
   "source": [
    "# comparison of different model fold wise\n",
    "results_df = pd.DataFrame({'baseline':baseline_scores, 'all_feats': all_feat_scores, 'rfe_top_10': rfe_top_10_scores})"
   ]
  },
  {
   "cell_type": "code",
   "execution_count": 50,
   "id": "b6130e00",
   "metadata": {},
   "outputs": [
    {
     "data": {
      "text/plain": [
       "<AxesSubplot:>"
      ]
     },
     "execution_count": 50,
     "metadata": {},
     "output_type": "execute_result"
    },
    {
     "data": {
      "image/png": "[encoded data removed]",
      "text/plain": [
       "<Figure size 432x288 with 1 Axes>"
      ]
     },
     "metadata": {
      "needs_background": "light"
     },
     "output_type": "display_data"
    }
   ],
   "source": [
    "results_df.plot(y=[\"baseline\", \"all_feats\", \"rfe_top_10\"], kind=\"bar\")"
   ]
  },
  {
   "cell_type": "markdown",
   "id": "c5c716bf",
   "metadata": {},
   "source": [
    "# let's try with the decision tree now"
   ]
  },
  {
   "cell_type": "code",
   "execution_count": 51,
   "id": "967b1d76",
   "metadata": {},
   "outputs": [],
   "source": [
    "from sklearn.tree import DecisionTreeClassifier"
   ]
  },
  {
   "cell_type": "code",
   "execution_count": 52,
   "id": "7e31d21f",
   "metadata": {},
   "outputs": [],
   "source": [
    "dt_model = DecisionTreeClassifier(random_state=10)"
   ]
  },
  {
   "cell_type": "code",
   "execution_count": 53,
   "id": "5bd15993",
   "metadata": {},
   "outputs": [
    {
     "data": {
      "text/plain": [
       "DecisionTreeClassifier(random_state=10)"
      ]
     },
     "execution_count": 53,
     "metadata": {},
     "output_type": "execute_result"
    }
   ],
   "source": [
    "dt_model.fit(xtrain,ytrain)"
   ]
  },
  {
   "cell_type": "code",
   "execution_count": 54,
   "id": "5bb66cc0",
   "metadata": {},
   "outputs": [
    {
     "data": {
      "text/plain": [
       "1.0"
      ]
     },
     "execution_count": 54,
     "metadata": {},
     "output_type": "execute_result"
    }
   ],
   "source": [
    "#checking the training score\n",
    "dt_model.score(xtrain, ytrain) #overfitting"
   ]
  },
  {
   "cell_type": "code",
   "execution_count": 55,
   "id": "a71ffbc9",
   "metadata": {},
   "outputs": [
    {
     "data": {
      "text/plain": [
       "0.7782475425430716"
      ]
     },
     "execution_count": 55,
     "metadata": {},
     "output_type": "execute_result"
    }
   ],
   "source": [
    "#checking the training score\n",
    "dt_model.score(xtest, ytest) # we can clearly see the case of overfitting here"
   ]
  },
  {
   "cell_type": "code",
   "execution_count": 56,
   "id": "2d23b429",
   "metadata": {},
   "outputs": [
    {
     "name": "stdout",
     "output_type": "stream",
     "text": [
      "\n",
      "1 of kfold 5\n",
      "ROC AUC Score: 0.631834035556469, Recall Score: 0.4040, Precision Score: 0.3957, Accuracy: 0.7752 \n",
      "\n",
      "2 of kfold 5\n",
      "ROC AUC Score: 0.6595515363272018, Recall Score: 0.4601, Precision Score: 0.4261, Accuracy: 0.7851 \n",
      "\n",
      "3 of kfold 5\n",
      "ROC AUC Score: 0.6329026438354362, Recall Score: 0.3992, Precision Score: 0.4050, Accuracy: 0.7800 \n",
      "\n",
      "4 of kfold 5\n",
      "ROC AUC Score: 0.6390764173036694, Recall Score: 0.4211, Precision Score: 0.4013, Accuracy: 0.7763 \n",
      "\n",
      "5 of kfold 5\n",
      "ROC AUC Score: 0.6479357986764377, Recall Score: 0.4354, Precision Score: 0.4152, Accuracy: 0.7817 \n"
     ]
    }
   ],
   "source": [
    "#let's see the baseline model cv score now\n",
    "baselinedt_score = cv_score(DecisionTreeClassifier(random_state=10), cols = baseline_cols)\n",
    "# avg. auc roc score that we are getting here from decision tree is lesser than logistic refression"
   ]
  },
  {
   "cell_type": "code",
   "execution_count": 57,
   "id": "2e359840",
   "metadata": {},
   "outputs": [
    {
     "name": "stdout",
     "output_type": "stream",
     "text": [
      "\n",
      "1 of kfold 5\n",
      "ROC AUC Score: 0.6638700030829309, Recall Score: 0.4743, Precision Score: 0.4240, Accuracy: 0.7832 \n",
      "\n",
      "2 of kfold 5\n",
      "ROC AUC Score: 0.6567855307779262, Recall Score: 0.4563, Precision Score: 0.4211, Accuracy: 0.7830 \n",
      "\n",
      "3 of kfold 5\n",
      "ROC AUC Score: 0.6629537411027933, Recall Score: 0.4591, Precision Score: 0.4395, Accuracy: 0.7912 \n",
      "\n",
      "4 of kfold 5\n",
      "ROC AUC Score: 0.6659337297880458, Recall Score: 0.4677, Precision Score: 0.4393, Accuracy: 0.7907 \n",
      "\n",
      "5 of kfold 5\n",
      "ROC AUC Score: 0.6679857611798912, Recall Score: 0.4724, Precision Score: 0.4406, Accuracy: 0.7911 \n"
     ]
    }
   ],
   "source": [
    "#on the whole dataset\n",
    "alldt_score = cv_score(DecisionTreeClassifier(random_state = 10))\n",
    "#here as well the score we are getting is much lesser than what we were getting from logistic regression"
   ]
  },
  {
   "cell_type": "code",
   "execution_count": 58,
   "id": "2d152631",
   "metadata": {},
   "outputs": [
    {
     "data": {
      "text/plain": [
       "RFE(estimator=DecisionTreeClassifier(random_state=10), n_features_to_select=1)"
      ]
     },
     "execution_count": 58,
     "metadata": {},
     "output_type": "execute_result"
    }
   ],
   "source": [
    "#lets try RFE on decision tree\n",
    "model = DecisionTreeClassifier(random_state = 10)\n",
    "rfe = RFE(estimator=model, n_features_to_select=1, step=1)\n",
    "rfe.fit(data, y_all)"
   ]
  },
  {
   "cell_type": "code",
   "execution_count": 59,
   "id": "20a2795d",
   "metadata": {},
   "outputs": [],
   "source": [
    "ranking_df = pd.DataFrame()\n",
    "ranking_df['Feature_name'] = data.columns\n",
    "ranking_df['Rank'] = rfe.ranking_"
   ]
  },
  {
   "cell_type": "code",
   "execution_count": 60,
   "id": "64948022",
   "metadata": {},
   "outputs": [],
   "source": [
    "ranked = ranking_df.sort_values(by = ['Rank'])\n"
   ]
  },
  {
   "cell_type": "code",
   "execution_count": 61,
   "id": "5ee9cf98",
   "metadata": {},
   "outputs": [
    {
     "data": {
      "text/html": [
       "<div>\n",
       "<style scoped>\n",
       "    .dataframe tbody tr th:only-of-type {\n",
       "        vertical-align: middle;\n",
       "    }\n",
       "\n",
       "    .dataframe tbody tr th {\n",
       "        vertical-align: top;\n",
       "    }\n",
       "\n",
       "    .dataframe thead th {\n",
       "        text-align: right;\n",
       "    }\n",
       "</style>\n",
       "<table border=\"1\" class=\"dataframe\">\n",
       "  <thead>\n",
       "    <tr style=\"text-align: right;\">\n",
       "      <th></th>\n",
       "      <th>Feature_name</th>\n",
       "      <th>Rank</th>\n",
       "    </tr>\n",
       "  </thead>\n",
       "  <tbody>\n",
       "    <tr>\n",
       "      <th>13</th>\n",
       "      <td>current_balance</td>\n",
       "      <td>1</td>\n",
       "    </tr>\n",
       "    <tr>\n",
       "      <th>16</th>\n",
       "      <td>average_monthly_balance_prevQ</td>\n",
       "      <td>2</td>\n",
       "    </tr>\n",
       "    <tr>\n",
       "      <th>15</th>\n",
       "      <td>average_monthly_balance_prevQ2</td>\n",
       "      <td>3</td>\n",
       "    </tr>\n",
       "    <tr>\n",
       "      <th>0</th>\n",
       "      <td>vintage</td>\n",
       "      <td>4</td>\n",
       "    </tr>\n",
       "    <tr>\n",
       "      <th>19</th>\n",
       "      <td>current_month_debit</td>\n",
       "      <td>5</td>\n",
       "    </tr>\n",
       "    <tr>\n",
       "      <th>22</th>\n",
       "      <td>previous_month_balance</td>\n",
       "      <td>6</td>\n",
       "    </tr>\n",
       "    <tr>\n",
       "      <th>5</th>\n",
       "      <td>branch_code</td>\n",
       "      <td>7</td>\n",
       "    </tr>\n",
       "    <tr>\n",
       "      <th>17</th>\n",
       "      <td>current_month_credit</td>\n",
       "      <td>8</td>\n",
       "    </tr>\n",
       "    <tr>\n",
       "      <th>20</th>\n",
       "      <td>previous_month_debit</td>\n",
       "      <td>9</td>\n",
       "    </tr>\n",
       "    <tr>\n",
       "      <th>18</th>\n",
       "      <td>previous_month_credit</td>\n",
       "      <td>10</td>\n",
       "    </tr>\n",
       "    <tr>\n",
       "      <th>1</th>\n",
       "      <td>age</td>\n",
       "      <td>11</td>\n",
       "    </tr>\n",
       "    <tr>\n",
       "      <th>14</th>\n",
       "      <td>previous_month_end_balance</td>\n",
       "      <td>12</td>\n",
       "    </tr>\n",
       "    <tr>\n",
       "      <th>4</th>\n",
       "      <td>city</td>\n",
       "      <td>13</td>\n",
       "    </tr>\n",
       "    <tr>\n",
       "      <th>21</th>\n",
       "      <td>current_month_balance</td>\n",
       "      <td>14</td>\n",
       "    </tr>\n",
       "    <tr>\n",
       "      <th>6</th>\n",
       "      <td>days_since_last_transaction</td>\n",
       "      <td>15</td>\n",
       "    </tr>\n",
       "    <tr>\n",
       "      <th>12</th>\n",
       "      <td>customer_nw_category</td>\n",
       "      <td>16</td>\n",
       "    </tr>\n",
       "    <tr>\n",
       "      <th>3</th>\n",
       "      <td>dependents</td>\n",
       "      <td>17</td>\n",
       "    </tr>\n",
       "    <tr>\n",
       "      <th>2</th>\n",
       "      <td>gender</td>\n",
       "      <td>18</td>\n",
       "    </tr>\n",
       "    <tr>\n",
       "      <th>9</th>\n",
       "      <td>occupation_salaried</td>\n",
       "      <td>19</td>\n",
       "    </tr>\n",
       "    <tr>\n",
       "      <th>10</th>\n",
       "      <td>occupation_self_employed</td>\n",
       "      <td>20</td>\n",
       "    </tr>\n",
       "    <tr>\n",
       "      <th>11</th>\n",
       "      <td>occupation_student</td>\n",
       "      <td>21</td>\n",
       "    </tr>\n",
       "    <tr>\n",
       "      <th>8</th>\n",
       "      <td>occupation_retired</td>\n",
       "      <td>22</td>\n",
       "    </tr>\n",
       "    <tr>\n",
       "      <th>7</th>\n",
       "      <td>occupation_company</td>\n",
       "      <td>23</td>\n",
       "    </tr>\n",
       "  </tbody>\n",
       "</table>\n",
       "</div>"
      ],
      "text/plain": [
       "                      Feature_name  Rank\n",
       "13                 current_balance     1\n",
       "16   average_monthly_balance_prevQ     2\n",
       "15  average_monthly_balance_prevQ2     3\n",
       "0                          vintage     4\n",
       "19             current_month_debit     5\n",
       "22          previous_month_balance     6\n",
       "5                      branch_code     7\n",
       "17            current_month_credit     8\n",
       "20            previous_month_debit     9\n",
       "18           previous_month_credit    10\n",
       "1                              age    11\n",
       "14      previous_month_end_balance    12\n",
       "4                             city    13\n",
       "21           current_month_balance    14\n",
       "6      days_since_last_transaction    15\n",
       "12            customer_nw_category    16\n",
       "3                       dependents    17\n",
       "2                           gender    18\n",
       "9              occupation_salaried    19\n",
       "10        occupation_self_employed    20\n",
       "11              occupation_student    21\n",
       "8               occupation_retired    22\n",
       "7               occupation_company    23"
      ]
     },
     "execution_count": 61,
     "metadata": {},
     "output_type": "execute_result"
    }
   ],
   "source": [
    "ranked"
   ]
  },
  {
   "cell_type": "code",
   "execution_count": 62,
   "id": "b82e5273",
   "metadata": {},
   "outputs": [
    {
     "name": "stdout",
     "output_type": "stream",
     "text": [
      "\n",
      "1 of kfold 5\n",
      "ROC AUC Score: 0.6739834549378276, Recall Score: 0.4876, Precision Score: 0.4426, Accuracy: 0.7913 \n",
      "\n",
      "2 of kfold 5\n",
      "ROC AUC Score: 0.6658442092282396, Recall Score: 0.4582, Precision Score: 0.4517, Accuracy: 0.7965 \n",
      "\n",
      "3 of kfold 5\n",
      "ROC AUC Score: 0.6461880155775126, Recall Score: 0.4278, Precision Score: 0.4182, Accuracy: 0.7837 \n",
      "\n",
      "4 of kfold 5\n",
      "ROC AUC Score: 0.6654559777388925, Recall Score: 0.4715, Precision Score: 0.4328, Accuracy: 0.7875 \n",
      "\n",
      "5 of kfold 5\n",
      "ROC AUC Score: 0.6545268856815819, Recall Score: 0.4449, Precision Score: 0.4270, Accuracy: 0.7865 \n"
     ]
    }
   ],
   "source": [
    "rfe_top_10_scores = cv_score(DecisionTreeClassifier(random_state = 10), cols = ranked['Feature_name'][:10].values)"
   ]
  },
  {
   "cell_type": "markdown",
   "id": "ba4db329",
   "metadata": {},
   "source": [
    "# the average score has improved a bit , but still its lesser than what we have got from best set of logistic regression"
   ]
  },
  {
   "cell_type": "code",
   "execution_count": 66,
   "id": "ca942064",
   "metadata": {},
   "outputs": [
    {
     "data": {
      "text/plain": [
       "0    0.814671\n",
       "1    0.185329\n",
       "Name: churn, dtype: float64"
      ]
     },
     "execution_count": 66,
     "metadata": {},
     "output_type": "execute_result"
    }
   ],
   "source": [
    "y_all.value_counts(normalize = True)"
   ]
  },
  {
   "cell_type": "markdown",
   "id": "5626257e",
   "metadata": {},
   "source": [
    "# KNN"
   ]
  },
  {
   "cell_type": "code",
   "execution_count": 76,
   "id": "e48c83d9",
   "metadata": {},
   "outputs": [],
   "source": [
    "# lets start with random initialization of 10 neighbours\n",
    "from sklearn.neighbors import KNeighborsClassifier as KNN\n",
    "from sklearn.metrics import f1_score"
   ]
  },
  {
   "cell_type": "code",
   "execution_count": 68,
   "id": "5c6389db",
   "metadata": {},
   "outputs": [
    {
     "data": {
      "text/plain": [
       "0.8141845470880457"
      ]
     },
     "execution_count": 68,
     "metadata": {},
     "output_type": "execute_result"
    }
   ],
   "source": [
    "clf = KNN(n_neighbors = 10)\n",
    "clf.fit(xtrain, ytrain)\n",
    "pred_val = clf.predict(xtest)\n",
    "accuracy_score(pred_val, ytest)"
   ]
  },
  {
   "cell_type": "code",
   "execution_count": 69,
   "id": "fa50b50d",
   "metadata": {},
   "outputs": [
    {
     "data": {
      "text/plain": [
       "0.44680851063829785"
      ]
     },
     "execution_count": 69,
     "metadata": {},
     "output_type": "execute_result"
    }
   ],
   "source": [
    "recall_score(pred_val, ytest)\n",
    "\n",
    "#we can see that overall performance of baseline model of KNN is so far better than decision tree and marginal better than logistic"
   ]
  },
  {
   "cell_type": "code",
   "execution_count": 89,
   "id": "832ad64c",
   "metadata": {},
   "outputs": [],
   "source": [
    "# lets try to find the optimal value k now by elbow method\n",
    "def Elbow(K):\n",
    "    #initiating empty list\n",
    "    test_error = []\n",
    "   \n",
    "    #training model for evey value of K\n",
    "    for i in K:\n",
    "        #Instance oh KNN\n",
    "        clf = KNN(n_neighbors = i)\n",
    "        clf.fit(xtrain, ytrain)\n",
    "        # Appending F1 scores to empty list claculated using the predictions\n",
    "        tmp = clf.predict(xtest)\n",
    "        tmp = recall_score(tmp,ytest)\n",
    "        error = 1-tmp\n",
    "        test_error.append(error)\n",
    "    \n",
    "    return test_error"
   ]
  },
  {
   "cell_type": "code",
   "execution_count": 91,
   "id": "ac6faa32",
   "metadata": {},
   "outputs": [],
   "source": [
    "#Defining K range\n",
    "k = range(2, 20, 2)"
   ]
  },
  {
   "cell_type": "code",
   "execution_count": 92,
   "id": "ab1e80e4",
   "metadata": {},
   "outputs": [],
   "source": [
    "# calling above defined function\n",
    "test = Elbow(k)"
   ]
  },
  {
   "cell_type": "code",
   "execution_count": 93,
   "id": "8a6dea6d",
   "metadata": {
    "scrolled": true
   },
   "outputs": [
    {
     "data": {
      "text/plain": [
       "Text(0.5, 1.0, 'Elbow Curve for test')"
      ]
     },
     "execution_count": 93,
     "metadata": {},
     "output_type": "execute_result"
    },
    {
     "data": {
      "image/png": "[encoded data removed]",
      "text/plain": [
       "<Figure size 432x288 with 1 Axes>"
      ]
     },
     "metadata": {
      "needs_background": "light"
     },
     "output_type": "display_data"
    }
   ],
   "source": [
    "# plotting the Curves\n",
    "plt.plot(k, test)\n",
    "plt.xlabel('K Neighbors')\n",
    "plt.ylabel('Test error')\n",
    "plt.title('Elbow Curve for test')\n",
    "#lets try at the n neighbours = 14"
   ]
  },
  {
   "cell_type": "code",
   "execution_count": 94,
   "id": "dbc4e256",
   "metadata": {},
   "outputs": [
    {
     "data": {
      "text/plain": [
       "0.8150301236655745"
      ]
     },
     "execution_count": 94,
     "metadata": {},
     "output_type": "execute_result"
    }
   ],
   "source": [
    "clf = KNN(n_neighbors = 14)\n",
    "clf.fit(xtrain, ytrain)\n",
    "pred_val = clf.predict(xtest)\n",
    "accuracy_score(pred_val, ytest)"
   ]
  },
  {
   "cell_type": "code",
   "execution_count": 96,
   "id": "612aa11e",
   "metadata": {},
   "outputs": [
    {
     "data": {
      "text/plain": [
       "0.5555555555555556"
      ]
     },
     "execution_count": 96,
     "metadata": {},
     "output_type": "execute_result"
    }
   ],
   "source": [
    "recall_score(pred_val, ytest)"
   ]
  },
  {
   "cell_type": "code",
   "execution_count": 98,
   "id": "2ea61729",
   "metadata": {},
   "outputs": [
    {
     "name": "stdout",
     "output_type": "stream",
     "text": [
      "\n",
      "1 of kfold 5\n",
      "ROC AUC Score: 0.536802486897544, Recall Score: 0.0029, Precision Score: 0.1765, Accuracy: 0.8128 \n",
      "\n",
      "2 of kfold 5\n",
      "ROC AUC Score: 0.5395816462850682, Recall Score: 0.0038, Precision Score: 0.2667, Accuracy: 0.8135 \n",
      "\n",
      "3 of kfold 5\n",
      "ROC AUC Score: 0.5304243153591116, Recall Score: 0.0067, Precision Score: 0.2800, Accuracy: 0.8127 \n",
      "\n",
      "4 of kfold 5\n",
      "ROC AUC Score: 0.5358397293999236, Recall Score: 0.0010, Precision Score: 0.0526, Accuracy: 0.8117 \n",
      "\n",
      "5 of kfold 5\n",
      "ROC AUC Score: 0.5452851998829055, Recall Score: 0.0057, Precision Score: 0.4000, Accuracy: 0.8141 \n"
     ]
    }
   ],
   "source": [
    "# k-fold with KNN on baseline model and neighbour = 14\n",
    "baselineknn_scores = cv_score(KNN(n_neighbors = 14))\n",
    "#we can clearly see the ROC score is  worst."
   ]
  }
 ],
 "metadata": {
  "kernelspec": {
   "display_name": "Python 3 (ipykernel)",
   "language": "python",
   "name": "python3"
  },
  "language_info": {
   "codemirror_mode": {
    "name": "ipython",
    "version": 3
   },
   "file_extension": ".py",
   "mimetype": "text/x-python",
   "name": "python",
   "nbconvert_exporter": "python",
   "pygments_lexer": "ipython3",
   "version": "3.9.6"
  }
 },
 "nbformat": 4,
 "nbformat_minor": 5
}
